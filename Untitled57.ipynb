{
  "nbformat": 4,
  "nbformat_minor": 0,
  "metadata": {
    "colab": {
      "name": "Untitled57.ipynb",
      "version": "0.3.2",
      "provenance": [],
      "include_colab_link": true
    },
    "kernelspec": {
      "name": "python3",
      "display_name": "Python 3"
    }
  },
  "cells": [
    {
      "cell_type": "markdown",
      "metadata": {
        "id": "view-in-github",
        "colab_type": "text"
      },
      "source": [
        "<a href=\"https://colab.research.google.com/github/shanksghub/firstrepo/blob/master/Untitled57.ipynb\" target=\"_parent\"><img src=\"https://colab.research.google.com/assets/colab-badge.svg\" alt=\"Open In Colab\"/></a>"
      ]
    },
    {
      "metadata": {
        "id": "Qqrs95_zvoZ2",
        "colab_type": "code",
        "colab": {}
      },
      "cell_type": "code",
      "source": [
        "import numpy as np\n",
        "import pandas as pd\n",
        "import matplotlib.pyplot as plt\n",
        "from sklearn.model_selection import train_test_split\n",
        "from IPython.display import display, Markdown\n",
        "from sklearn import tree\n",
        "\n",
        "url = 'https://raw.githubusercontent.com/shanksghub/FootballStats/master/FootballStats.csv'\n",
        "df1 = pd.read_csv(url)\n",
        "\n",
        "\n",
        "# Functional Approach for Regression Modeling\n",
        "def regFunction(df, a,b, position):\n",
        "    X = np.array(df[a]).reshape(-1,1)\n",
        "    Y = np.array(df[b]).reshape(-1,1)\n",
        "    clf = tree.DecisionTreeClassifier()\n",
        "    clf = clf.fit(X, Y)\n",
        "    print(clf.predict())"
      ],
      "execution_count": 0,
      "outputs": []
    }
  ]
}